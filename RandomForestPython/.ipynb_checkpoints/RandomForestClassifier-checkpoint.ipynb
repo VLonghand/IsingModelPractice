{
 "cells": [
  {
   "cell_type": "code",
   "execution_count": 1,
   "metadata": {},
   "outputs": [],
   "source": [
    "import pandas as pd \n",
    "import numpy as np\n",
    "import matplotlib.pyplot as plt\n",
    "from mpl_toolkits.mplot3d import Axes3D\n",
    "import concurrent.futures\n",
    "plt.style.use('dark_background')\n",
    "n = 4\n",
    "N = 10000\n",
    "\n",
    "import os\n",
    "\n",
    "os.chdir('/home/vv/Documents/IsingModelPractice1')\n"
   ]
  },
  {
   "cell_type": "code",
   "execution_count": 2,
   "metadata": {},
   "outputs": [],
   "source": [
    "dataset = pd.read_csv(\"Data/Energy w 30000 rand_flat 4 x 4.csv\")\n",
    "\n",
    "energies = dataset['energies']\n",
    "examples = dataset.iloc[:,1:n*n]"
   ]
  },
  {
   "cell_type": "code",
   "execution_count": 3,
   "metadata": {},
   "outputs": [],
   "source": [
    "N = int(dataset.shape[0])\n",
    "n = int(np.sqrt(dataset.shape[1]-1))\n",
    "from sklearn.model_selection import train_test_split\n",
    "from sklearn.ensemble import RandomForestClassifier\n"
   ]
  },
  {
   "cell_type": "code",
   "execution_count": 4,
   "metadata": {},
   "outputs": [],
   "source": [
    "def RFR_etimators(hypPar):\n",
    "    num_of_trees = hypPar\n",
    "    #training_size = num_of_trees_training_size[1]\n",
    "    #testing_size = N - training_size\n",
    "    X_train, X_test, y_train, y_test = train_test_split(examples, energies,train_size=0.8, test_size=0.2)\n",
    "    model = RandomForestClassifier(n_estimators=num_of_trees)\n",
    "    model.fit(X_train, y_train)\n",
    "    \n",
    "    \n",
    "    \n",
    "    return [num_of_trees, list(y_test), list(model.predict(X_test))]"
   ]
  },
  {
   "cell_type": "code",
   "execution_count": null,
   "metadata": {},
   "outputs": [],
   "source": [
    "\n",
    "\n",
    "\n",
    "\n"
   ]
  },
  {
   "cell_type": "code",
   "execution_count": 6,
   "metadata": {},
   "outputs": [],
   "source": [
    "args = list(np.arange(50,500,100))\n",
    "eval_data = [[],[],[]]\n",
    "\n",
    "with concurrent.futures.ProcessPoolExecutor() as executor:\n",
    "    results = executor.map(RFR_etimators, [500])\n",
    "    \n",
    "    for p1 in results:\n",
    "        eval_data[0].append(p1[0]) # number of trees\n",
    "        eval_data[1].append(p1[1]) # training size\n",
    "        eval_data[2].append(p1[2]) # OBB score\n",
    "              "
   ]
  },
  {
   "cell_type": "code",
   "execution_count": 7,
   "metadata": {},
   "outputs": [
    {
     "name": "stdout",
     "output_type": "stream",
     "text": [
      "[50, 150, 250, 350, 450]\n"
     ]
    }
   ],
   "source": [
    "print(eval_data[0])"
   ]
  },
  {
   "cell_type": "code",
   "execution_count": 11,
   "metadata": {},
   "outputs": [],
   "source": [
    "error = [abs(i-j) for i in eval_data[1][3] for j in  eval_data[2][3]]"
   ]
  },
  {
   "cell_type": "code",
   "execution_count": 12,
   "metadata": {},
   "outputs": [
    {
     "data": {
      "image/png": "[encoded data removed]",
      "text/plain": [
       "<Figure size 432x288 with 1 Axes>"
      ]
     },
     "metadata": {},
     "output_type": "display_data"
    }
   ],
   "source": [
    "import matplotlib.pyplot as plt\n",
    "\n",
    "# kwargs = dict(alpha=0.5, bins=18)\n",
    "\n",
    "# plt.his(eval_data[0], error)\n",
    "\n",
    "\n",
    "\n",
    "plt.hist(error, color='g')\n",
    "# plt.hist(y_test, **kwargs, color='b', label='Fair')\n",
    "#plt.hist(to_read.iloc[4])\n",
    "plt.show()"
   ]
  },
  {
   "cell_type": "code",
   "execution_count": 26,
   "metadata": {},
   "outputs": [
    {
     "name": "stdout",
     "output_type": "stream",
     "text": [
      "--- 9.875089406967163 seconds ---\n"
     ]
    }
   ],
   "source": [
    "import time\n",
    "start_time = time.time()\n",
    "\n",
    "X_train, X_test, y_train, y_test = train_test_split(examples, energies,train_size=0.8, test_size=0.2)\n",
    "model = RandomForestClassifier(n_estimators=500, oob_score = True)\n",
    "model.fit(X_train, y_train)\n",
    "\n",
    "print(\"--- %s seconds ---\" % (time.time() - start_time))"
   ]
  },
  {
   "cell_type": "code",
   "execution_count": 28,
   "metadata": {},
   "outputs": [
    {
     "name": "stdout",
     "output_type": "stream",
     "text": [
      "--- 0.7319753170013428 seconds ---\n"
     ]
    }
   ],
   "source": [
    "start_time = time.time()\n",
    "y_new = model.predict(X_test)\n",
    "\n",
    "\n",
    "\n",
    "print(\"--- %s seconds ---\" % (time.time() - start_time))"
   ]
  },
  {
   "cell_type": "code",
   "execution_count": null,
   "metadata": {},
   "outputs": [],
   "source": [
    "error2 = [abs(i-j) for i in eval_data[1][3] for j in  eval_data[2][3]]"
   ]
  }
 ],
 "metadata": {
  "kernelspec": {
   "display_name": "Python 3",
   "language": "python",
   "name": "python3"
  },
  "language_info": {
   "codemirror_mode": {
    "name": "ipython",
    "version": 3
   },
   "file_extension": ".py",
   "mimetype": "text/x-python",
   "name": "python",
   "nbconvert_exporter": "python",
   "pygments_lexer": "ipython3",
   "version": "3.8.5"
  }
 },
 "nbformat": 4,
 "nbformat_minor": 4
}
