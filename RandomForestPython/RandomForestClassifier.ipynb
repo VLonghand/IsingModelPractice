{
 "cells": [
  {
   "cell_type": "code",
   "execution_count": 1,
   "metadata": {},
   "outputs": [],
   "source": [
    "import pandas as pd \n",
    "import numpy as np\n",
    "import matplotlib.pyplot as plt\n",
    "from mpl_toolkits.mplot3d import Axes3D\n",
    "import concurrent.futures\n",
    "plt.style.use('dark_background')\n",
    "n = 4\n",
    "N = 10000\n",
    "\n",
    "import os\n",
    "\n",
    "os.chdir('/home/vv/Documents/IsingModelPractice1')\n"
   ]
  },
  {
   "cell_type": "code",
   "execution_count": 2,
   "metadata": {},
   "outputs": [],
   "source": [
    "dataset = pd.read_csv(\"Data/Energy w 30000 rand_flat 4 x 4.csv\")\n",
    "\n",
    "energies = dataset['energies']\n",
    "examples = dataset.iloc[:,1:n*n]"
   ]
  },
  {
   "cell_type": "code",
   "execution_count": 3,
   "metadata": {},
   "outputs": [],
   "source": [
    "N = int(dataset.shape[0])\n",
    "n = int(np.sqrt(dataset.shape[1]-1))\n",
    "from sklearn.model_selection import train_test_split\n",
    "from sklearn.ensemble import RandomForestClassifier\n"
   ]
  },
  {
   "cell_type": "code",
   "execution_count": 11,
   "metadata": {},
   "outputs": [],
   "source": [
    "def RFR_etimators(hypPar):\n",
    "    num_of_trees = hypPar\n",
    "    #training_size = num_of_trees_training_size[1]\n",
    "    #testing_size = N - training_size\n",
    "    X_train, X_test, y_train, y_test = train_test_split(examples, energies,train_size=0.8, test_size=0.2)\n",
    "    model = RandomForestClassifier(n_estimators=num_of_trees)\n",
    "    model.fit(X_train, y_train)\n",
    "    \n",
    "    \n",
    "    \n",
    "    return [num_of_trees, list(y_test), list(model.predict(X_test))]"
   ]
  },
  {
   "cell_type": "code",
   "execution_count": null,
   "metadata": {},
   "outputs": [],
   "source": [
    "\n",
    "\n",
    "\n",
    "\n"
   ]
  },
  {
   "cell_type": "code",
   "execution_count": 12,
   "metadata": {},
   "outputs": [],
   "source": [
    "args = list(np.arange(50,500,100))\n",
    "eval_data = [[],[],[]]\n",
    "\n",
    "with concurrent.futures.ProcessPoolExecutor() as executor:\n",
    "    results = executor.map(RFR_etimators, [500])\n",
    "    \n",
    "    for p1 in results:\n",
    "        eval_data[0].append(p1[0]) # number of trees\n",
    "        eval_data[1].append(p1[1]) # training size\n",
    "        eval_data[2].append(p1[2]) # OBB score\n",
    "              "
   ]
  },
  {
   "cell_type": "code",
   "execution_count": 13,
   "metadata": {},
   "outputs": [
    {
     "name": "stdout",
     "output_type": "stream",
     "text": [
      "[500]\n"
     ]
    }
   ],
   "source": [
    "print(eval_data[0])"
   ]
  },
  {
   "cell_type": "code",
   "execution_count": 15,
   "metadata": {},
   "outputs": [],
   "source": [
    "error = [abs(i-j) for i in eval_data[1][0] for j in  eval_data[2][0]]"
   ]
  },
  {
   "cell_type": "code",
   "execution_count": 12,
   "metadata": {},
   "outputs": [
    {
     "data": {
      "image/png": "[encoded data removed]",
      "text/plain": [
       "<Figure size 432x288 with 1 Axes>"
      ]
     },
     "metadata": {},
     "output_type": "display_data"
    }
   ],
   "source": [
    "import matplotlib.pyplot as plt\n",
    "\n",
    "# kwargs = dict(alpha=0.5, bins=18)\n",
    "\n",
    "# plt.his(eval_data[0], error)\n",
    "\n",
    "\n",
    "\n",
    "plt.hist(error, color='g')\n",
    "# plt.hist(y_test, **kwargs, color='b', label='Fair')\n",
    "#plt.hist(to_read.iloc[4])\n",
    "plt.show()"
   ]
  },
  {
   "cell_type": "code",
   "execution_count": 77,
   "metadata": {},
   "outputs": [
    {
     "name": "stdout",
     "output_type": "stream",
     "text": [
      "--- 9.646872520446777 seconds ---\n"
     ]
    }
   ],
   "source": [
    "# 500 trees\n",
    "\n",
    "import time\n",
    "start_time = time.time()#time\n",
    "\n",
    "X_train5, X_test5, y_train5, y_test5 = train_test_split(examples, energies,train_size=0.8, test_size=0.2)\n",
    "model5 = RandomForestClassifier(n_estimators=500, oob_score = True)\n",
    "model5.fit(X_train, y_train)\n",
    "\n",
    "\n",
    "train_time = time.time() - start_time#time\n",
    "print(\"--- %s seconds ---\" % train_time)#time\n",
    "train_time5 = round(train_time, 3)"
   ]
  },
  {
   "cell_type": "code",
   "execution_count": 78,
   "metadata": {},
   "outputs": [
    {
     "name": "stdout",
     "output_type": "stream",
     "text": [
      "--- 13.754204273223877 seconds ---\n"
     ]
    }
   ],
   "source": [
    "# 700 trees\n",
    "\n",
    "import time\n",
    "start_time = time.time() #time\n",
    "\n",
    "X_train7, X_test7, y_train7, y_test7= train_test_split(examples, energies,train_size=0.8, test_size=0.2)\n",
    "model7 = RandomForestClassifier(n_estimators=700, oob_score = True)\n",
    "model7.fit(X_train, y_train)\n",
    "\n",
    "\n",
    "train_time = time.time() - start_time #time\n",
    "print(\"--- %s seconds ---\" % train_time)#time\n",
    "train_time7 = round(train_time, 3)"
   ]
  },
  {
   "cell_type": "code",
   "execution_count": 79,
   "metadata": {},
   "outputs": [
    {
     "name": "stdout",
     "output_type": "stream",
     "text": [
      "--- 0.768547773361206 seconds ---\n"
     ]
    }
   ],
   "source": [
    "# 500 trees\n",
    "\n",
    "start_time = time.time() #time\n",
    "\n",
    "y_new5 = model5.predict(X_test5)\n",
    "\n",
    "\n",
    "predi_time = time.time() - start_time #time\n",
    "\n",
    "print(\"--- %s seconds ---\" % predi_time) #time\n",
    "predi_time5 = round(predi_time, 3)\n"
   ]
  },
  {
   "cell_type": "code",
   "execution_count": 80,
   "metadata": {},
   "outputs": [
    {
     "name": "stdout",
     "output_type": "stream",
     "text": [
      "--- 1.0634231567382812 seconds ---\n"
     ]
    }
   ],
   "source": [
    "# 700 trees\n",
    "\n",
    "start_time = time.time() #time\n",
    "\n",
    "y_new7 = model7.predict(X_test7)\n",
    "\n",
    "\n",
    "predi_time = time.time() - start_time #time\n",
    "\n",
    "print(\"--- %s seconds ---\" % predi_time) # time\n",
    "predi_time7 = round(predi_time, 3)\n"
   ]
  },
  {
   "cell_type": "code",
   "execution_count": 18,
   "metadata": {},
   "outputs": [
    {
     "name": "stdout",
     "output_type": "stream",
     "text": [
      "[0, 4, 0, 4, 12, 4, 0, 8, 4, 0]\n"
     ]
    }
   ],
   "source": [
    "# error2 = []\n",
    "\n",
    "# for i in y_test:\n",
    "#     for j in  y_new:\n",
    "#         error2.append(abs(i-j))\n",
    "\n",
    "\n",
    "\n",
    "# print(error2[0:10])"
   ]
  },
  {
   "cell_type": "code",
   "execution_count": 82,
   "metadata": {},
   "outputs": [
    {
     "data": {
      "image/png": "[encoded data removed]",
      "text/plain": [
       "<Figure size 432x288 with 2 Axes>"
      ]
     },
     "metadata": {},
     "output_type": "display_data"
    }
   ],
   "source": [
    "import matplotlib.pyplot as plt\n",
    "fig, axs = plt.subplots(2, 1, constrained_layout=True)\n",
    "\n",
    "counts5, edges5, plot5 = axs[0].hist(abs(y_test5-y_new5), bins = 12, color='darkslateblue')\n",
    "counts5=[int(i) for i in counts5]\n",
    "\n",
    "axs[0].set_title(f\"500 tree; train-t {train_time5}, predicting-t {predi_time5}\")\n",
    "axs[0].set_xlabel(f'|error|; # of 0\\'s= {counts5[0]}, 4\\'s= {counts5[4]}, 8\\'s= {counts5[8]}, 12\\'s= {counts5[11]}')\n",
    "axs[0].set_ylabel('#')\n",
    "fig.suptitle('n_subplots comparison', fontsize=16)\n",
    "\n",
    "\n",
    "counts7, edges7, plot7 = axs[1].hist(abs(y_test7-y_new7), bins = 12, color='darkslateblue')\n",
    "counts7=[int(i) for i in counts7]\n",
    "\n",
    "axs[1].set_xlabel(f'|error|; # of 0\\'s= {counts7[0]}, 4\\'s= {counts7[4]}, 8\\'s= {counts7[8]}, 12\\'s= {counts7[11]}')\n",
    "axs[1].set_title(f\"700 tree; train-t {train_time7}, predicting-t {predi_time7}\")\n",
    "axs[1].set_ylabel('#')\n",
    "plt.show()\n",
    "\n"
   ]
  },
  {
   "cell_type": "code",
   "execution_count": null,
   "metadata": {},
   "outputs": [],
   "source": [
    "len(error2)"
   ]
  },
  {
   "cell_type": "code",
   "execution_count": 19,
   "metadata": {},
   "outputs": [],
   "source": [
    "plt.show()"
   ]
  },
  {
   "cell_type": "code",
   "execution_count": null,
   "metadata": {},
   "outputs": [],
   "source": []
  }
 ],
 "metadata": {
  "kernelspec": {
   "display_name": "Python 3",
   "language": "python",
   "name": "python3"
  },
  "language_info": {
   "codemirror_mode": {
    "name": "ipython",
    "version": 3
   },
   "file_extension": ".py",
   "mimetype": "text/x-python",
   "name": "python",
   "nbconvert_exporter": "python",
   "pygments_lexer": "ipython3",
   "version": "3.8.5"
  }
 },
 "nbformat": 4,
 "nbformat_minor": 4
}
